{
 "cells": [
  {
   "cell_type": "markdown",
   "metadata": {},
   "source": [
    "# Yahoo! News Scraper\n",
    "Scrape news from Yahoo! based on a specific search criteria"
   ]
  },
  {
   "cell_type": "code",
   "execution_count": 1,
   "metadata": {},
   "outputs": [],
   "source": [
    "import csv\n",
    "from datetime import datetime\n",
    "from time import sleep\n",
    "from random import random\n",
    "import requests\n",
    "from bs4 import BeautifulSoup\n",
    "\n",
    "\n",
    "headers = {\n",
    "    'accept': '*/*',\n",
    "    'accept-encoding': 'gzip, deflate, br',\n",
    "    'accept-language': 'en-US,en;q=0.9',\n",
    "    'referer': 'https://www.google.com',\n",
    "    'user-agent': 'Mozilla/5.0 (Windows NT 10.0; Win64; x64) AppleWebKit/537.36 (KHTML, like Gecko) Chrome/85.0.4183.83 Safari/537.36 Edg/85.0.564.44'\n",
    "}    \n",
    "\n",
    "def get_url(search):\n",
    "    \"\"\"Generate a url based on the search term\"\"\"\n",
    "    template = 'https://news.search.yahoo.com/search?p={}'\n",
    "    url = template.format(search)\n",
    "    return url\n",
    "\n",
    "def get_article(card):\n",
    "    \"\"\"Extract article information from the raw html\"\"\"\n",
    "    headline = card.find('h4', 's-title').text.strip()\n",
    "    source = card.find('span', 's-source').text\n",
    "    date_posted = card.find('span', 's-time').text.replace('·', '').strip()\n",
    "    today = datetime.today().strftime('%Y-%m-%d')\n",
    "    description = card.find('p', 's-desc').text.strip()\n",
    "    link = card.find('h4', 's-title').a.get('href')\n",
    "        \n",
    "    article = (headline, source, date_posted, today, description, link)\n",
    "    return article\n",
    "\n",
    "def main(search):\n",
    "    \"\"\"Run the main program routine\"\"\"\n",
    "    url = get_url(search)\n",
    "    articles = []\n",
    "        \n",
    "    while True:\n",
    "        response = requests.get(url, headers=headers)\n",
    "        soup = BeautifulSoup(response.text, 'html.parser')\n",
    "        cards = soup.find_all('div', 'NewsArticle')\n",
    "        \n",
    "        # extract articles from page\n",
    "        for card in cards:\n",
    "            article = get_article(card)\n",
    "            if article:\n",
    "                articles.append(article)\n",
    "        \n",
    "        # find the next page\n",
    "        try:    \n",
    "            url = soup.find('a', 'next').get('href')\n",
    "        except AttributeError:\n",
    "            break\n",
    "\n",
    "        # add random delay to prevent getting blocked from server\n",
    "        delay = random()\n",
    "        sleep(delay)\n",
    "\n",
    "            \n",
    "    # save article data\n",
    "    with open('results.csv', 'w', newline='', encoding='utf-8') as f:\n",
    "        writer = csv.writer(f)\n",
    "        writer.writerow(['Headline', 'Source', 'DatePosted', 'RequestDate', 'Description', 'Link'])\n",
    "        writer.writerows(articles)\n",
    "        \n",
    "    return articles"
   ]
  },
  {
   "cell_type": "code",
   "execution_count": 2,
   "metadata": {},
   "outputs": [],
   "source": [
    "# run the main program\n",
    "articles = main('iphone')"
   ]
  },
  {
   "cell_type": "code",
   "execution_count": 4,
   "metadata": {},
   "outputs": [
    {
     "data": {
      "text/plain": [
       "[(\"Apple's iPhone 12 announcement may be coming soon, introducing big changes like a new design, 5G,...\",\n",
       "  'Business Insider via Yahoo News',\n",
       "  '2 days ago',\n",
       "  '2020-09-05',\n",
       "  \"Apple's new iPhones are expected to launch a few weeks later than usual this year because of the...\",\n",
       "  'https://r.search.yahoo.com/_ylt=AwrC1CnFLVRf0l0AOyDQtDMD;_ylu=X3oDMTByOHZyb21tBGNvbG8DYmYxBHBvcwMxBHZ0aWQDBHNlYwNzcg--/RV=2/RE=1599381061/RO=10/RU=https%3a%2f%2fnews.yahoo.com%2fnext-years-iphone-12-starting-143900059.html/RK=2/RS=p79ct1_M2lOlPrb0AwdZBW5s7To-'),\n",
       " ('The best Apple iPhone deals for September 2020',\n",
       "  'Digital Trends via Yahoo Finance',\n",
       "  '27 minutes ago',\n",
       "  '2020-09-05',\n",
       "  'More than 10 years after ushering in the smartphone era, the Apple iPhone is still the single most famous device on the market — even if Android makers...',\n",
       "  'https://r.search.yahoo.com/_ylt=AwrC1CnFLVRf0l0APSDQtDMD;_ylu=X3oDMTBybGY3bmpvBGNvbG8DYmYxBHBvcwMyBHZ0aWQDBHNlYwNzcg--/RV=2/RE=1599381061/RO=10/RU=https%3a%2f%2ffinance.yahoo.com%2fnews%2fcheck-list-best-iphone-deals-004123785.html/RK=2/RS=ic9oholKFqiOMh8ldqXyoeRAriY-'),\n",
       " ('iPhone 12 and iPhone 12 Pro: Everything we know about Apple’s new phones',\n",
       "  'Digital Trends via Yahoo Finance',\n",
       "  '4 days ago',\n",
       "  '2020-09-05',\n",
       "  'Recent Apple iPhone 12 rumors called that decade-long tradition into question, but there may be a...',\n",
       "  'https://r.search.yahoo.com/_ylt=AwrC1CnFLVRf0l0APyDQtDMD;_ylu=X3oDMTByNXM5bzY5BGNvbG8DYmYxBHBvcwMzBHZ0aWQDBHNlYwNzcg--/RV=2/RE=1599381061/RO=10/RU=https%3a%2f%2ffinance.yahoo.com%2fnews%2fiphone-12-coming-fall-everything-185615475.html/RK=2/RS=HacWsOEPd0XTfoz9KtXz8mmmNfg-'),\n",
       " ('How to sync your Outlook calendar with an iPhone',\n",
       "  'Digital Trends via Yahoo Finance',\n",
       "  '31 minutes ago',\n",
       "  '2020-09-05',\n",
       "  'Since Outlook is a Microsoft program on your computer, one issue is that it’s not always easy to take it on the go. Luckily, for easier access, there is...',\n",
       "  'https://r.search.yahoo.com/_ylt=AwrC1CnFLVRf0l0AQSDQtDMD;_ylu=X3oDMTBydWNmY2MwBGNvbG8DYmYxBHBvcwM0BHZ0aWQDBHNlYwNzcg--/RV=2/RE=1599381061/RO=10/RU=https%3a%2f%2ffinance.yahoo.com%2fnews%2fsync-outlook-calendar-iphone-131536793.html/RK=2/RS=Qfhd.0VWw9vfoT3Prwd7dM93Pa8-')]"
      ]
     },
     "execution_count": 4,
     "metadata": {},
     "output_type": "execute_result"
    }
   ],
   "source": [
    "# show the first 4 records\n",
    "articles[0:4]"
   ]
  }
 ],
 "metadata": {
  "kernelspec": {
   "display_name": "Python 3",
   "language": "python",
   "name": "python3"
  },
  "language_info": {
   "codemirror_mode": {
    "name": "ipython",
    "version": 3
   },
   "file_extension": ".py",
   "mimetype": "text/x-python",
   "name": "python",
   "nbconvert_exporter": "python",
   "pygments_lexer": "ipython3",
   "version": "3.8.3"
  }
 },
 "nbformat": 4,
 "nbformat_minor": 4
}
