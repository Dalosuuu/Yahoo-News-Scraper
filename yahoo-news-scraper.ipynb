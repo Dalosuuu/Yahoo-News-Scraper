{
 "cells": [
  {
   "cell_type": "markdown",
   "metadata": {},
   "source": [
    "# Yahoo! News Scraper"
   ]
  },
  {
   "cell_type": "code",
   "execution_count": 4,
   "metadata": {},
   "outputs": [],
   "source": [
    "import csv\n",
    "from time import sleep\n",
    "from random import random\n",
    "import requests\n",
    "from bs4 import BeautifulSoup\n",
    "\n",
    "def get_url(search):\n",
    "    \"\"\"Generate a url based on the search term\"\"\"\n",
    "    template = 'https://news.search.yahoo.com/search?p={}'\n",
    "    url = template.format(search)\n",
    "    return url\n",
    "\n",
    "def get_article(card):\n",
    "    \"\"\"Extract article information from the raw html\"\"\"\n",
    "    headline = card.find('h4', 'title').text.strip()\n",
    "    source = card.find('span', 's-source').text\n",
    "    date_posted = card.find('span', 's-time').text.replace('·', '').strip()\n",
    "    description = card.find('p', 's-desc').text.strip()\n",
    "    link = card.find('h4', 'title').a.get('href')\n",
    "        \n",
    "    article = (headline, source, date_posted, description, link)\n",
    "    return article\n",
    "\n",
    "def main(search):\n",
    "    \"\"\"Run the main program routine\"\"\"\n",
    "    url = get_url(search)\n",
    "    articles = []\n",
    "        \n",
    "    while True:\n",
    "        # add random delay to prevent getting blocked from server\n",
    "        delay = random() * 2\n",
    "        sleep(delay)\n",
    "        response = requests.get(url)\n",
    "        soup = BeautifulSoup(response.text, 'html.parser')\n",
    "        cards = soup.find_all('div', 'NewsArticle')\n",
    "        \n",
    "        # extract articles from page\n",
    "        for card in cards:\n",
    "            article = get_article(card)\n",
    "            articles.append(article)\n",
    "        \n",
    "        # find the next page\n",
    "        try:    \n",
    "            url = soup.find('a', 'next').get('href')\n",
    "        except AttributeError:\n",
    "            break\n",
    "    \n",
    "    # save article data\n",
    "    with open('results.csv', 'w', newline='', encoding='utf-8') as f:\n",
    "        writer = csv.writer(f)\n",
    "        writer.writerow(['Headline', 'Source', 'DatePosted', 'Description', 'Link'])\n",
    "        writer.writerows(articles)"
   ]
  },
  {
   "cell_type": "code",
   "execution_count": 5,
   "metadata": {},
   "outputs": [],
   "source": [
    "main('iphone')"
   ]
  }
 ],
 "metadata": {
  "kernelspec": {
   "display_name": "Python 3",
   "language": "python",
   "name": "python3"
  },
  "language_info": {
   "codemirror_mode": {
    "name": "ipython",
    "version": 3
   },
   "file_extension": ".py",
   "mimetype": "text/x-python",
   "name": "python",
   "nbconvert_exporter": "python",
   "pygments_lexer": "ipython3",
   "version": "3.8.3"
  }
 },
 "nbformat": 4,
 "nbformat_minor": 4
}
